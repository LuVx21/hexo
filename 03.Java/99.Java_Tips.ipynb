{
 "cells": [
  {
   "cell_type": "markdown",
   "metadata": {},
   "source": [
    "# 字符串"
   ]
  },
  {
   "cell_type": "markdown",
   "metadata": {},
   "source": [
    "## valueOf代替toString"
   ]
  },
  {
   "cell_type": "code",
   "execution_count": null,
   "metadata": {},
   "outputs": [],
   "source": [
    "import java.math.BigDecimal;\n",
    "BigDecimal bd = new BigDecimal(\"100\");\n",
    "// good\n",
    "System.out.println(String.valueOf(bd));\n",
    "// not good\n",
    "System.out.println(bd.toString());"
   ]
  },
  {
   "cell_type": "markdown",
   "metadata": {},
   "source": [
    "## String split\n",
    "\n",
    "字符串后面的不参与分割, 前面的参与分割, 连续出现则会分割出空字符串"
   ]
  },
  {
   "cell_type": "code",
   "execution_count": null,
   "metadata": {},
   "outputs": [],
   "source": [
    "String str = \"  the sky is  blue    \";\n",
    "Arrays.toString(str.split(\" \"));"
   ]
  },
  {
   "cell_type": "markdown",
   "metadata": {},
   "source": [
    "## MessageFormat format\n",
    "\n",
    "1:"
   ]
  },
  {
   "cell_type": "code",
   "execution_count": null,
   "metadata": {},
   "outputs": [],
   "source": [
    "import java.text.MessageFormat;\n",
    "// a:100,001\n",
    "System.out.println(MessageFormat.format(\"a:{0}\", 100001));\n",
    "// a:100001\n",
    "System.out.println(MessageFormat.format(\"a:{0}\", 100001 + \"\"));"
   ]
  },
  {
   "cell_type": "markdown",
   "metadata": {},
   "source": [
    "> 占位符填入数字时会自动被`,`分割, 因此不要直接传入数值, 而是传入String类型\n",
    "\n",
    "参数中有整型数值时, 会自动添加数字分割符`,`成为类似`123,456,789`的形式,\n",
    "\n",
    "处理这些数值时, 需要转换为`String`或`+ \"\"`后再传参\n",
    "\n",
    "2:\n",
    "\n",
    "`select * from user where name = '{0}';`\n",
    "替换后会出现: `where name = {0}`, 可将`'{0}'`改为`''{0}''`\n",
    "\n",
    "> 其中的字符串常量也会出现类似的问题, 如 `name = 'foo'`, 替换后两个单引号也会消失, 应该使用双层单引号\n",
    "\n",
    "一些 json 的替换操作也需要注意大括号的问题:\n",
    "\n",
    "方法是将单引号把大括号包含起来. 如下:"
   ]
  },
  {
   "cell_type": "code",
   "execution_count": null,
   "metadata": {},
   "outputs": [],
   "source": [
    "import java.text.MessageFormat;\n",
    "String json = \"'{'code:\\\"{0}\\\",des:\\\"{1}\\\"'}'\";\n",
    "System.out.println(MessageFormat.format(json, \"w1\",\"w2\"));"
   ]
  },
  {
   "cell_type": "markdown",
   "metadata": {},
   "source": [
    "如果格式化字符串中包含单引号, 处理方法是用2个单引号进行转义:"
   ]
  },
  {
   "cell_type": "code",
   "execution_count": 2,
   "metadata": {},
   "outputs": [
    {
     "name": "stdout",
     "output_type": "stream",
     "text": [
      "{code:'w1',des:'w2'}\n"
     ]
    }
   ],
   "source": [
    "import java.text.MessageFormat;\n",
    "String json = \"'{'code:''{0}'',des:''{1}'''}'\";\n",
    "System.out.println(MessageFormat.format(json, \"w1\",\"w2\"));"
   ]
  },
  {
   "cell_type": "markdown",
   "metadata": {},
   "source": [
    "> 这个和 sql 的替换那里类似"
   ]
  },
  {
   "cell_type": "code",
   "execution_count": 19,
   "metadata": {},
   "outputs": [
    {
     "name": "stdout",
     "output_type": "stream",
     "text": [
      "2020-10-30T17:00\n",
      "2020-10-30T18:00\n",
      "1604046736363\n",
      "1604046736437\n"
     ]
    }
   ],
   "source": [
    "import java.time.LocalDateTime;\n",
    "import java.util.Date;\n",
    "LocalDateTime now = LocalDateTime.now().withMinute(0).plusHours(1).withSecond(0).withNano(0);\n",
    "\n",
    "System.out.println(now);\n",
    "\n",
    "System.out.println(now.plusHours(1));\n",
    "\n",
    "Date date = new Date();\n",
    "System.out.println(date.getTime());\n",
    "System.out.println(System.currentTimeMillis());\n"
   ]
  },
  {
   "cell_type": "code",
   "execution_count": 18,
   "metadata": {
    "scrolled": false
   },
   "outputs": [
    {
     "name": "stdout",
     "output_type": "stream",
     "text": [
      "2020\n",
      "5\n",
      "12\n",
      "20200512\n",
      "UTF-8\n",
      "/tmp/eds/getClass().getSimpleName()/%s/\n"
     ]
    }
   ],
   "source": [
    "import java.time.LocalDate;\n",
    "import java.util.Date;\n",
    "import java.nio.charset.StandardCharsets;\n",
    "LocalDate now = LocalDate.of(2020, 5, 12);\n",
    "int year = now.getYear();\n",
    "int monthValue = now.getMonthValue();\n",
    "int dayOfMonth = now.getDayOfMonth();\n",
    "\n",
    "System.out.println(year);\n",
    "System.out.println(monthValue);\n",
    "System.out.println(dayOfMonth);\n",
    "System.out.println(year*10000 + monthValue*100 + dayOfMonth);\n",
    "System.out.println(StandardCharsets.UTF_8.name());\n",
    "\n",
    "        String path = System.getProperty(\"java.io.tmpdir\")\n",
    "                + File.separator\n",
    "                + \"eds\"\n",
    "                + File.separator\n",
    "                + \"getClass().getSimpleName()\"\n",
    "                + File.separator + \"%s\" + File.separator;\n",
    "System.out.println(path);\n"
   ]
  }
 ],
 "metadata": {
  "kernelspec": {
   "display_name": "Java",
   "language": "java",
   "name": "java"
  },
  "language_info": {
   "codemirror_mode": "java",
   "file_extension": ".jshell",
   "mimetype": "text/x-java-source",
   "name": "Java",
   "pygments_lexer": "java",
   "version": "11.0.5+10-LTS"
  },
  "toc": {
   "base_numbering": 1,
   "nav_menu": {},
   "number_sections": true,
   "sideBar": true,
   "skip_h1_title": false,
   "title_cell": "Table of Contents",
   "title_sidebar": "Contents",
   "toc_cell": false,
   "toc_position": {},
   "toc_section_display": true,
   "toc_window_display": false
  }
 },
 "nbformat": 4,
 "nbformat_minor": 4
}
