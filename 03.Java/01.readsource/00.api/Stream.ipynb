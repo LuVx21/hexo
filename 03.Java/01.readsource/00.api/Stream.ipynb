{
 "cells": [
  {
   "cell_type": "code",
   "execution_count": null,
   "metadata": {},
   "outputs": [],
   "source": [
    "%%loadFromPOM\n",
    "<dependency>\n",
    "    <groupId>com.google.guava</groupId>\n",
    "    <artifactId>guava</artifactId>\n",
    "    <version>28.2-jre</version>\n",
    "</dependency>"
   ]
  },
  {
   "cell_type": "code",
   "execution_count": null,
   "metadata": {},
   "outputs": [],
   "source": [
    "import com.google.common.collect.Lists;\n",
    "import java.util.stream.Collectors;\n",
    "import java.util.stream.Stream;\n",
    "\n",
    "class User {\n",
    "    String name;\n",
    "    String password;\n",
    "\n",
    "    public String getName() {\n",
    "        return name;\n",
    "    }\n",
    "\n",
    "    public void setName(String name) {\n",
    "        this.name = name;\n",
    "    }\n",
    "\n",
    "    public String getPassword() {\n",
    "        return password;\n",
    "    }\n",
    "\n",
    "    public void setPassword(String password) {\n",
    "        this.password = password;\n",
    "    }\n",
    "}\n",
    "\n",
    "User user = new User();\n",
    "user.setName(\"aa\");\n",
    "user.setPassword(\"11\");\n",
    "User user1 = new User();\n",
    "user1.setName(\"bb\");\n",
    "user1.setPassword(\"22\");\n",
    "ArrayList<User> users = Lists.newArrayList(user, user1);\n",
    "List<String> collect = users.stream().flatMap(s -> Stream.of(s.getName(), s.getPassword()))\n",
    "        .collect(Collectors.toList());\n",
    "System.out.println(collect);"
   ]
  }
 ],
 "metadata": {
  "kernelspec": {
   "display_name": "Java",
   "language": "java",
   "name": "java"
  },
  "language_info": {
   "codemirror_mode": "java",
   "file_extension": ".jshell",
   "mimetype": "text/x-java-source",
   "name": "Java",
   "pygments_lexer": "java",
   "version": "11.0.5+10-LTS"
  },
  "toc": {
   "base_numbering": 1,
   "nav_menu": {},
   "number_sections": true,
   "sideBar": true,
   "skip_h1_title": false,
   "title_cell": "Table of Contents",
   "title_sidebar": "Contents",
   "toc_cell": false,
   "toc_position": {},
   "toc_section_display": true,
   "toc_window_display": false
  }
 },
 "nbformat": 4,
 "nbformat_minor": 4
}
