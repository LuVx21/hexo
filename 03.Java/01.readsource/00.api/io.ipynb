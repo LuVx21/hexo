{
 "cells": [
  {
   "cell_type": "code",
   "execution_count": null,
   "metadata": {},
   "outputs": [],
   "source": [
    "%%loadFromPOM\n",
    "<dependency>\n",
    "    <groupId>com.google.guava</groupId>\n",
    "    <artifactId>guava</artifactId>\n",
    "    <version>28.2-jre</version>\n",
    "</dependency>"
   ]
  },
  {
   "cell_type": "code",
   "execution_count": null,
   "metadata": {},
   "outputs": [],
   "source": [
    "import java.io.File;\n",
    "import java.io.FilenameFilter;\n",
    "\n",
    "FilenameFilter filter0 = new FilenameFilter() {\n",
    "    @Override\n",
    "    public boolean accept(File dir, String name) {\n",
    "        System.out.println(dir + \"->\" + name);\n",
    "        if (name.endsWith(\"boot\")) {\n",
    "                        return true;\n",
    "                    }\n",
    "                    return false;\n",
    "    }\n",
    "};\n",
    "FileFilter filter = new FileFilter() {\n",
    "    @Override\n",
    "    public boolean accept(File pathname) {\n",
    "        String name = pathname.getName();\n",
    "        System.out.println(pathname.toString() + \"->\" + name);\n",
    "                     if (pathname.isDirectory()) {\n",
    "                        return false;\n",
    "                    }\n",
    "        if (name.endsWith(\"boot\")) {\n",
    "            return true;\n",
    "        }\n",
    "        return false;\n",
    "    }\n",
    "};\n",
    "File dir = new File(\"/root/code/\");\n",
    "File[] files = dir.listFiles(filter);\n",
    "for (File file : files) {\n",
    "    System.out.println(\"--\"+file);    \n",
    "}"
   ]
  },
  {
   "cell_type": "code",
   "execution_count": null,
   "metadata": {},
   "outputs": [],
   "source": [
    "Column[] columns = records.get(0).getColumns();\n",
    "\n",
    "header = IntStream.range(1, columns.length)\n",
    ".mapToObj(i -> columns[i])\n",
    ".map(Column::getName)\n",
    ".collect(Collectors.toList());\n",
    "\n",
    "header = java.util.Arrays.stream(columns, 1, columns.length)\n",
    ".map(Column::getName)\n",
    ".collect(Collectors.toList());"
   ]
  }
 ],
 "metadata": {
  "kernelspec": {
   "display_name": "Java",
   "language": "java",
   "name": "java"
  },
  "language_info": {
   "codemirror_mode": "java",
   "file_extension": ".jshell",
   "mimetype": "text/x-java-source",
   "name": "Java",
   "pygments_lexer": "java",
   "version": "15.0.1+9"
  },
  "toc": {
   "base_numbering": 1,
   "nav_menu": {},
   "number_sections": true,
   "sideBar": true,
   "skip_h1_title": false,
   "title_cell": "Table of Contents",
   "title_sidebar": "Contents",
   "toc_cell": false,
   "toc_position": {},
   "toc_section_display": true,
   "toc_window_display": false
  }
 },
 "nbformat": 4,
 "nbformat_minor": 4
}
