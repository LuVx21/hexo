{
 "cells": [
  {
   "cell_type": "code",
   "execution_count": 1,
   "metadata": {},
   "outputs": [],
   "source": [
    "%%loadFromPOM\n",
    "<dependency>\n",
    "    <groupId>com.google.guava</groupId>\n",
    "    <artifactId>guava</artifactId>\n",
    "    <version>28.2-jre</version>\n",
    "</dependency>"
   ]
  },
  {
   "cell_type": "code",
   "execution_count": 2,
   "metadata": {},
   "outputs": [
    {
     "name": "stdout",
     "output_type": "stream",
     "text": [
      "/root/code/spring-boot->spring-boot\n",
      "/root/code/coding-flink->coding-flink\n",
      "/root/code/geek-time->geek-time\n",
      "/root/code/doc->doc\n",
      "/root/code/luvx_case->luvx_case\n",
      "/root/code/shell->shell\n",
      "/root/code/coding-usage->coding-usage\n",
      "/root/code/Book_Manual->Book_Manual\n",
      "/root/code/repository->repository\n",
      "/root/code/inter->inter\n",
      "/root/code/bigdata->bigdata\n",
      "/root/code/LeetCode->LeetCode\n",
      "/root/code/git1->git1\n",
      "/root/code/coding-kafka->coding-kafka\n"
     ]
    }
   ],
   "source": [
    "import java.io.File;\n",
    "import java.io.FilenameFilter;\n",
    "\n",
    "FilenameFilter filter0 = new FilenameFilter() {\n",
    "    @Override\n",
    "    public boolean accept(File dir, String name) {\n",
    "        System.out.println(dir + \"->\" + name);\n",
    "        if (name.endsWith(\"boot\")) {\n",
    "                        return true;\n",
    "                    }\n",
    "                    return false;\n",
    "    }\n",
    "};\n",
    "FileFilter filter = new FileFilter() {\n",
    "    @Override\n",
    "    public boolean accept(File pathname) {\n",
    "        String name = pathname.getName();\n",
    "        System.out.println(pathname.toString() + \"->\" + name);\n",
    "                     if (pathname.isDirectory()) {\n",
    "                        return false;\n",
    "                    }\n",
    "        if (name.endsWith(\"boot\")) {\n",
    "            return true;\n",
    "        }\n",
    "        return false;\n",
    "    }\n",
    "};\n",
    "File dir = new File(\"/root/code/\");\n",
    "File[] files = dir.listFiles(filter);\n",
    "for (File file : files) {\n",
    "    System.out.println(\"--\"+file);    \n",
    "}"
   ]
  },
  {
   "cell_type": "code",
   "execution_count": null,
   "metadata": {},
   "outputs": [],
   "source": [
    "Column[] columns = records.get(0).getColumns();\n",
    "\n",
    "header = IntStream.range(1, columns.length)\n",
    ".mapToObj(i -> columns[i])\n",
    ".map(Column::getName)\n",
    ".collect(Collectors.toList());\n",
    "\n",
    "header = java.util.Arrays.stream(columns, 1, columns.length)\n",
    ".map(Column::getName)\n",
    ".collect(Collectors.toList());"
   ]
  }
 ],
 "metadata": {
  "kernelspec": {
   "display_name": "Java",
   "language": "java",
   "name": "java"
  },
  "language_info": {
   "codemirror_mode": "java",
   "file_extension": ".jshell",
   "mimetype": "text/x-java-source",
   "name": "Java",
   "pygments_lexer": "java",
   "version": "11.0.5+10-LTS"
  },
  "toc": {
   "base_numbering": 1,
   "nav_menu": {},
   "number_sections": true,
   "sideBar": true,
   "skip_h1_title": false,
   "title_cell": "Table of Contents",
   "title_sidebar": "Contents",
   "toc_cell": false,
   "toc_position": {},
   "toc_section_display": true,
   "toc_window_display": false
  }
 },
 "nbformat": 4,
 "nbformat_minor": 4
}
