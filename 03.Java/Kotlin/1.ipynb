{
 "cells": [
  {
   "cell_type": "code",
   "execution_count": 13,
   "metadata": {},
   "outputs": [
    {
     "name": "stdout",
     "output_type": "stream",
     "text": [
      "let: 1000\n",
      "also: testLet\n"
     ]
    }
   ],
   "source": [
    "\n",
    "val result0 = \"testLet\".let {\n",
    "//     println(it.length)\n",
    "    1000\n",
    "}\n",
    "println(\"let: $result0\")\n",
    "\n",
    "val result1 = \"testLet\".also {\n",
    "//     println(it.length)\n",
    "    1000\n",
    "}\n",
    "println(\"also: $result1\")"
   ]
  },
  {
   "cell_type": "code",
   "execution_count": 14,
   "metadata": {},
   "outputs": [
    {
     "name": "stdout",
     "output_type": "stream",
     "text": [
      "also: User(id=1, userName=foo, password=bar, age=18)\n",
      "apply: User(id=1, userName=foo, password=bar, age=18)\n",
      "run: 1000\n",
      "apply: User(id=1, userName=foo, password=bar, age=18)\n",
      "with: 1000\n"
     ]
    }
   ],
   "source": [
    "class User {\n",
    "    var id: Long? = null\n",
    "    var userName: String? = null\n",
    "    var password: String? = null\n",
    "    var age: Int? = null\n",
    "    \n",
    "    override fun toString(): String {\n",
    "        return \"User(id=$id, userName=$userName, password=$password, age=$age)\"\n",
    "    }\n",
    "}\n",
    "\n",
    "val user = User()\n",
    "user.also { it.id = 1 }\n",
    "        .also { it.userName = \"foo\" }\n",
    "        .also { it.password = \"bar\" }\n",
    "        .also { it.age = 18 }\n",
    "println(\"also: $user\")\n",
    "\n",
    "user.apply { id = 1 }\n",
    "        .apply { userName = \"foo\" }\n",
    "        .apply { password = \"bar\" }\n",
    "        .apply { age = 18 }\n",
    "\n",
    "println(\"apply: $user\")\n",
    "\n",
    "val result1 = user.run {\n",
    "//     println(\"my name is $userName, I am $age years old, my password is $password\")\n",
    "    1000\n",
    "}\n",
    "println(\"run: $result1\")\n",
    "\n",
    "val result2 = user.apply {\n",
    "//     println(\"my name is $userName, I am $age years old, my password is $password\")\n",
    "    1000\n",
    "}\n",
    "println(\"apply: $result2\")\n",
    "\n",
    "val result3 = with(user) {\n",
    "//     println(\"my name is $userName, I am $age years old, my password is $password\")\n",
    "    1000\n",
    "}\n",
    "println(\"with: $result3\")"
   ]
  },
  {
   "cell_type": "markdown",
   "metadata": {},
   "source": [
    "also apply 返回自身\n",
    "\n",
    "\n",
    "let run with 返回指定值"
   ]
  }
 ],
 "metadata": {
  "kernelspec": {
   "display_name": "Kotlin",
   "language": "kotlin",
   "name": "kotlin"
  },
  "language_info": {
   "codemirror_mode": "text/x-kotlin",
   "file_extension": ".kt",
   "mimetype": "text/x-kotlin",
   "name": "kotlin",
   "pygments_lexer": "kotlin",
   "version": "1.4.20-dev-2342"
  },
  "toc": {
   "base_numbering": 1,
   "nav_menu": {},
   "number_sections": true,
   "sideBar": true,
   "skip_h1_title": false,
   "title_cell": "Table of Contents",
   "title_sidebar": "Contents",
   "toc_cell": false,
   "toc_position": {},
   "toc_section_display": true,
   "toc_window_display": false
  }
 },
 "nbformat": 4,
 "nbformat_minor": 4
}
